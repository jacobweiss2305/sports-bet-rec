{
 "cells": [
  {
   "cell_type": "code",
   "execution_count": 17,
   "metadata": {},
   "outputs": [],
   "source": [
    "import base64\n",
    "import json\n",
    "\n",
    "from dotenv import load_dotenv\n",
    "\n",
    "load_dotenv()\n",
    "\n",
    "import os\n",
    "\n",
    "from langchain.chains import RetrievalQA\n",
    "from langchain.document_loaders import TextLoader\n",
    "from langchain.embeddings.openai import OpenAIEmbeddings\n",
    "from langchain.llms import OpenAI\n",
    "from langchain.text_splitter import CharacterTextSplitter\n",
    "from langchain.vectorstores import Chroma\n",
    "from langchain.llms import OpenAI\n",
    "\n",
    "import requests\n",
    "import pandas as pd\n"
   ]
  },
  {
   "cell_type": "code",
   "execution_count": 18,
   "metadata": {},
   "outputs": [],
   "source": [
    "def qa(file_path, prompt):\n",
    "\n",
    "    loader = TextLoader(file_path)\n",
    "\n",
    "    documents = loader.load()\n",
    "    text_splitter = CharacterTextSplitter(chunk_size=1000, chunk_overlap=50)\n",
    "    texts = text_splitter.split_documents(documents)\n",
    "\n",
    "    embeddings = OpenAIEmbeddings()\n",
    "    docsearch = Chroma.from_documents(texts, embeddings)\n",
    "\n",
    "    qa = RetrievalQA.from_chain_type(llm=OpenAI(), chain_type=\"stuff\", retriever=docsearch.as_retriever())\n",
    "\n",
    "    return qa.run(prompt)"
   ]
  },
  {
   "cell_type": "code",
   "execution_count": 19,
   "metadata": {},
   "outputs": [
    {
     "name": "stderr",
     "output_type": "stream",
     "text": [
      "Number of requested results 4 is greater than number of elements in index 1, updating n_results = 1\n"
     ]
    },
    {
     "data": {
      "text/plain": [
       "'\\nThe Rockies won 42 games. They lost 5 games. They played 47 games.\\n\\nOn average they score 5.7 runs per game. The average score of their opponents was 5.2 runs per game.\\n\\nThey won 24 games at home and 18 games on the road.\\n\\nThe games they won their win probability was 0.446. The games they lost their win probability was 0.357.\\n\\nTheir next game is 7/5/2023 against the Houston Astros. Their win probability is 0.388. They will likely score 4 runs.'"
      ]
     },
     "execution_count": 19,
     "metadata": {},
     "output_type": "execute_result"
    }
   ],
   "source": [
    "prompt = \"\"\"\n",
    "Fill in X:\n",
    "\n",
    "The rockies won X games. They lost X games. They played X games.\n",
    "\n",
    "On average they score X runs per game. The average score of their opponents was X runs per game.\n",
    "\n",
    "They won X games at home and X games on the road.\n",
    "\n",
    "The games they won their win probability was X. The games they lost their win probability was X.\n",
    "\n",
    "Their next game is 7/5/2023 against X. Their win probability is X. They will likely score X runs.\n",
    "\n",
    "If you don't know, estimate.\n",
    "\n",
    "\"\"\"\n",
    "rockies_estimate = qa('data/rockies_schedule.csv', prompt)\n",
    "\n",
    "rockies_estimate"
   ]
  },
  {
   "cell_type": "code",
   "execution_count": 20,
   "metadata": {},
   "outputs": [
    {
     "name": "stderr",
     "output_type": "stream",
     "text": [
      "Number of requested results 4 is greater than number of elements in index 1, updating n_results = 1\n"
     ]
    },
    {
     "data": {
      "text/plain": [
       "' The Astros won 35 games, lost 24 games, and played 59 games. On average they score 5.7 runs per game and the average score of their opponents was 4.7 runs per game. They won 24 games at home and 11 games on the road. The games they won their win probability was 0.624 and the games they lost their win probability was 0.472. Their next game is 7/5/2023 against the Seattle Mariners. Their win probability is 0.589 and they will likely score 5 runs.'"
      ]
     },
     "execution_count": 20,
     "metadata": {},
     "output_type": "execute_result"
    }
   ],
   "source": [
    "prompt = \"\"\"\n",
    "\n",
    "Fill in X:\n",
    "\n",
    "The astros won X games. They lost X games. They played X games.\n",
    "\n",
    "On average they score X runs per game. The average score of their opponents was X runs per game.\n",
    "\n",
    "They won X games at home and X games on the road.\n",
    "\n",
    "The games they won their win probability was X. The games they lost their win probability was X.\n",
    "\n",
    "Their next game is 7/5/2023 against X. Their win probability is X. They will likely score X runs.\n",
    "\n",
    "If you don't know, estimate.\n",
    "\n",
    "\"\"\"\n",
    "astros_estimate = qa('data/astros_schedule.csv', prompt)\n",
    "\n",
    "astros_estimate"
   ]
  },
  {
   "cell_type": "code",
   "execution_count": 21,
   "metadata": {},
   "outputs": [],
   "source": [
    "estimate = rockies_estimate + astros_estimate\n",
    "with open('data/estimate.txt', 'w') as f:\n",
    "    f.write(estimate)"
   ]
  },
  {
   "cell_type": "code",
   "execution_count": 24,
   "metadata": {},
   "outputs": [
    {
     "name": "stderr",
     "output_type": "stream",
     "text": [
      "Number of requested results 4 is greater than number of elements in index 1, updating n_results = 1\n"
     ]
    }
   ],
   "source": [
    "\n",
    "prompt = \"\"\"\n",
    "\n",
    "Use the file provided to pick a winner for this moneyline bet: Moneyline Colorado Rockies (+185) v Houstan Astros  (-225)\n",
    "\n",
    "Colorado Rockies (+185): If you bet on the Rockies to win, you're taking the underdog. The \"+185\" means that if you bet $100, you stand to win $185 (in addition to getting your original $100 stake back) if the Rockies do indeed win the game.\n",
    "\n",
    "Houston Astros (-225): If you bet on the Astros to win, you're taking the favorite. The \"-225\" means that you would need to wager $225 in order to win $100 (plus you would get your original $225 stake back) if the Astros win the game.\n",
    "\n",
    "Your response should be either \"Rockies\" or \"Astros\"\n",
    "\n",
    "\"\"\"\n",
    "winner = qa('data/estimate.txt', prompt)\n",
    "\n",
    "with open('data/output.txt', 'w') as f:\n",
    "    f.write(winner)"
   ]
  },
  {
   "cell_type": "code",
   "execution_count": null,
   "metadata": {},
   "outputs": [],
   "source": []
  }
 ],
 "metadata": {
  "kernelspec": {
   "display_name": "venv",
   "language": "python",
   "name": "python3"
  },
  "language_info": {
   "codemirror_mode": {
    "name": "ipython",
    "version": 3
   },
   "file_extension": ".py",
   "mimetype": "text/x-python",
   "name": "python",
   "nbconvert_exporter": "python",
   "pygments_lexer": "ipython3",
   "version": "3.11.4"
  },
  "orig_nbformat": 4
 },
 "nbformat": 4,
 "nbformat_minor": 2
}
